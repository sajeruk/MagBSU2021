{
 "cells": [
  {
   "cell_type": "code",
   "execution_count": 2,
   "id": "5287f79b",
   "metadata": {},
   "outputs": [],
   "source": [
    "import image_slicer"
   ]
  },
  {
   "cell_type": "code",
   "execution_count": 4,
   "id": "9542c625",
   "metadata": {},
   "outputs": [
    {
     "data": {
      "text/plain": [
       "(<Tile #1 - Cat_01_01.png>,\n",
       " <Tile #2 - Cat_01_02.png>,\n",
       " <Tile #3 - Cat_01_03.png>,\n",
       " <Tile #4 - Cat_01_04.png>,\n",
       " <Tile #5 - Cat_02_01.png>,\n",
       " <Tile #6 - Cat_02_02.png>,\n",
       " <Tile #7 - Cat_02_03.png>,\n",
       " <Tile #8 - Cat_02_04.png>,\n",
       " <Tile #9 - Cat_03_01.png>,\n",
       " <Tile #10 - Cat_03_02.png>,\n",
       " <Tile #11 - Cat_03_03.png>,\n",
       " <Tile #12 - Cat_03_04.png>,\n",
       " <Tile #13 - Cat_04_01.png>,\n",
       " <Tile #14 - Cat_04_02.png>,\n",
       " <Tile #15 - Cat_04_03.png>,\n",
       " <Tile #16 - Cat_04_04.png>)"
      ]
     },
     "execution_count": 4,
     "metadata": {},
     "output_type": "execute_result"
    }
   ],
   "source": [
    "image_slicer.slice(\"/home/sajeruk/lectures/lecture1/CatSmall/Cat.jpg\", 16)"
   ]
  },
  {
   "cell_type": "code",
   "execution_count": null,
   "id": "628ced66",
   "metadata": {},
   "outputs": [],
   "source": []
  }
 ],
 "metadata": {
  "kernelspec": {
   "display_name": "Python 3 (ipykernel)",
   "language": "python",
   "name": "python3"
  },
  "language_info": {
   "codemirror_mode": {
    "name": "ipython",
    "version": 3
   },
   "file_extension": ".py",
   "mimetype": "text/x-python",
   "name": "python",
   "nbconvert_exporter": "python",
   "pygments_lexer": "ipython3",
   "version": "3.8.10"
  }
 },
 "nbformat": 4,
 "nbformat_minor": 5
}
